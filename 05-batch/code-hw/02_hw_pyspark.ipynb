{
 "cells": [
  {
   "cell_type": "code",
   "execution_count": 3,
   "id": "07de9dc3",
   "metadata": {},
   "outputs": [],
   "source": [
    "import pyspark\n",
    "from pyspark.sql import SparkSession"
   ]
  },
  {
   "cell_type": "code",
   "execution_count": 4,
   "id": "ca5bbb06",
   "metadata": {},
   "outputs": [
    {
     "name": "stderr",
     "output_type": "stream",
     "text": [
      "Setting default log level to \"WARN\".\n",
      "To adjust logging level use sc.setLogLevel(newLevel). For SparkR, use setLogLevel(newLevel).\n",
      "25/03/02 19:03:23 WARN NativeCodeLoader: Unable to load native-hadoop library for your platform... using builtin-java classes where applicable\n",
      "25/03/02 19:03:24 WARN Utils: Service 'SparkUI' could not bind on port 4040. Attempting port 4041.\n"
     ]
    }
   ],
   "source": [
    "spark = SparkSession.builder \\\n",
    "    .master(\"local[*]\") \\\n",
    "    .appName('test') \\\n",
    "    .getOrCreate()"
   ]
  },
  {
   "cell_type": "code",
   "execution_count": 67,
   "id": "cf8de204",
   "metadata": {
    "scrolled": true
   },
   "outputs": [
    {
     "name": "stdout",
     "output_type": "stream",
     "text": [
      "--2025-03-02 18:44:58--  https://d37ci6vzurychx.cloudfront.net/trip-data/yellow_tripdata_2024-10.parquet\n",
      "Resolving d37ci6vzurychx.cloudfront.net (d37ci6vzurychx.cloudfront.net)... 65.9.23.94, 65.9.23.184, 65.9.23.179, ...\n",
      "connected. to d37ci6vzurychx.cloudfront.net (d37ci6vzurychx.cloudfront.net)|65.9.23.94|:443... \n",
      "HTTP request sent, awaiting response... 200 OK\n",
      "Length: 64346071 (61M) [binary/octet-stream]\n",
      "Saving to: ‘yellow_tripdata_2024-10.parquet’\n",
      "\n",
      "yellow_tripdata_202 100%[===================>]  61.36M  12.8MB/s    in 5.7s    \n",
      "\n",
      "2025-03-02 18:45:04 (10.8 MB/s) - ‘yellow_tripdata_2024-10.parquet’ saved [64346071/64346071]\n",
      "\n"
     ]
    }
   ],
   "source": [
    "!wget https://d37ci6vzurychx.cloudfront.net/trip-data/yellow_tripdata_2024-10.parquet"
   ]
  },
  {
   "cell_type": "code",
   "execution_count": 4,
   "id": "201a5957",
   "metadata": {},
   "outputs": [
    {
     "name": "stdout",
     "output_type": "stream",
     "text": [
      "-rw-r--r--  1 sergey.tarabara  169928479  64346071 Dec 18 22:21 yellow_tripdata_2024-10.parquet\n"
     ]
    }
   ],
   "source": [
    "!ls -l yellow_tripdata_2024-10.parquet"
   ]
  },
  {
   "cell_type": "code",
   "execution_count": 5,
   "id": "931021a7",
   "metadata": {},
   "outputs": [
    {
     "name": "stderr",
     "output_type": "stream",
     "text": [
      "                                                                                "
     ]
    }
   ],
   "source": [
    "df = spark.read \\\n",
    "    .parquet('yellow_tripdata_2024-10.parquet')"
   ]
  },
  {
   "cell_type": "code",
   "execution_count": 6,
   "id": "d44b7839",
   "metadata": {},
   "outputs": [
    {
     "data": {
      "text/plain": [
       "StructType([StructField('VendorID', IntegerType(), True), StructField('tpep_pickup_datetime', TimestampNTZType(), True), StructField('tpep_dropoff_datetime', TimestampNTZType(), True), StructField('passenger_count', LongType(), True), StructField('trip_distance', DoubleType(), True), StructField('RatecodeID', LongType(), True), StructField('store_and_fwd_flag', StringType(), True), StructField('PULocationID', IntegerType(), True), StructField('DOLocationID', IntegerType(), True), StructField('payment_type', LongType(), True), StructField('fare_amount', DoubleType(), True), StructField('extra', DoubleType(), True), StructField('mta_tax', DoubleType(), True), StructField('tip_amount', DoubleType(), True), StructField('tolls_amount', DoubleType(), True), StructField('improvement_surcharge', DoubleType(), True), StructField('total_amount', DoubleType(), True), StructField('congestion_surcharge', DoubleType(), True), StructField('Airport_fee', DoubleType(), True)])"
      ]
     },
     "execution_count": 6,
     "metadata": {},
     "output_type": "execute_result"
    }
   ],
   "source": [
    "df.schema"
   ]
  },
  {
   "cell_type": "code",
   "execution_count": 7,
   "id": "f94052ae",
   "metadata": {},
   "outputs": [
    {
     "name": "stdout",
     "output_type": "stream",
     "text": [
      "+--------+--------------------+---------------------+---------------+-------------+----------+------------------+------------+------------+------------+-----------+-----+-------+----------+------------+---------------------+------------+--------------------+-----------+\n",
      "|VendorID|tpep_pickup_datetime|tpep_dropoff_datetime|passenger_count|trip_distance|RatecodeID|store_and_fwd_flag|PULocationID|DOLocationID|payment_type|fare_amount|extra|mta_tax|tip_amount|tolls_amount|improvement_surcharge|total_amount|congestion_surcharge|Airport_fee|\n",
      "+--------+--------------------+---------------------+---------------+-------------+----------+------------------+------------+------------+------------+-----------+-----+-------+----------+------------+---------------------+------------+--------------------+-----------+\n",
      "|       2| 2024-10-01 00:30:44|  2024-10-01 00:48:26|              1|          3.0|         1|                 N|         162|         246|           1|       18.4|  1.0|    0.5|       1.5|         0.0|                  1.0|        24.9|                 2.5|        0.0|\n",
      "|       1| 2024-10-01 00:12:20|  2024-10-01 00:25:25|              1|          2.2|         1|                 N|          48|         236|           1|       14.2|  3.5|    0.5|       3.8|         0.0|                  1.0|        23.0|                 2.5|        0.0|\n",
      "|       1| 2024-10-01 00:04:46|  2024-10-01 00:13:52|              1|          2.7|         1|                 N|         142|          24|           1|       13.5|  3.5|    0.5|       3.7|         0.0|                  1.0|        22.2|                 2.5|        0.0|\n",
      "|       1| 2024-10-01 00:12:10|  2024-10-01 00:23:01|              1|          3.1|         1|                 N|         233|          75|           1|       14.2|  3.5|    0.5|       2.0|         0.0|                  1.0|        21.2|                 2.5|        0.0|\n",
      "|       1| 2024-10-01 00:30:22|  2024-10-01 00:30:39|              1|          0.0|         1|                 N|         262|         262|           3|        3.0|  3.5|    0.5|       0.0|         0.0|                  1.0|         8.0|                 2.5|        0.0|\n",
      "|       2| 2024-10-01 00:31:20|  2024-10-01 00:36:00|              2|         0.97|         1|                 N|         137|         137|           1|        7.2|  1.0|    0.5|      2.44|         0.0|                  1.0|       14.64|                 2.5|        0.0|\n",
      "|       1| 2024-10-01 00:42:57|  2024-10-01 00:49:01|              1|          1.3|         1|                 N|         142|          48|           1|        7.9|  3.5|    0.5|      2.55|         0.0|                  1.0|       15.45|                 2.5|        0.0|\n",
      "|       1| 2024-10-01 00:59:55|  2024-10-01 01:02:24|              1|          0.5|         1|                 N|         230|         161|           1|        5.1|  3.5|    0.5|       2.0|         0.0|                  1.0|        12.1|                 2.5|        0.0|\n",
      "|       1| 2024-10-01 00:00:47|  2024-10-01 00:04:22|              0|          1.1|         1|                 N|         142|         237|           1|        7.2|  3.5|    0.5|       3.0|         0.0|                  1.0|        15.2|                 2.5|        0.0|\n",
      "|       1| 2024-10-01 00:17:36|  2024-10-01 00:26:22|              1|          2.2|         1|                 N|         162|         145|           1|       11.4|  3.5|    0.5|       3.3|         0.0|                  1.0|        19.7|                 2.5|        0.0|\n",
      "+--------+--------------------+---------------------+---------------+-------------+----------+------------------+------------+------------+------------+-----------+-----+-------+----------+------------+---------------------+------------+--------------------+-----------+\n",
      "only showing top 10 rows\n",
      "\n"
     ]
    }
   ],
   "source": [
    "df.show(10)"
   ]
  },
  {
   "cell_type": "code",
   "execution_count": 8,
   "id": "c270d9d6",
   "metadata": {},
   "outputs": [],
   "source": [
    "df = df.repartition(4)"
   ]
  },
  {
   "cell_type": "code",
   "execution_count": 9,
   "id": "7796c2b2",
   "metadata": {},
   "outputs": [
    {
     "name": "stderr",
     "output_type": "stream",
     "text": [
      "                                                                                "
     ]
    }
   ],
   "source": [
    "df.write.parquet('yellow/24/10/')"
   ]
  },
  {
   "cell_type": "markdown",
   "id": "64172a47",
   "metadata": {},
   "source": [
    "SELECT * FROM df WHERE hvfhs_license_num =  HV0003"
   ]
  },
  {
   "cell_type": "code",
   "execution_count": 10,
   "id": "aa1b0e18",
   "metadata": {},
   "outputs": [
    {
     "name": "stdout",
     "output_type": "stream",
     "text": [
      "total 188928\n",
      "-rw-r--r--  1 sergey.tarabara  169928479     0B Feb 27 21:48 _SUCCESS\n",
      "-rw-r--r--  1 sergey.tarabara  169928479    22M Feb 27 21:48 part-00000-9199d994-0b85-465b-94c3-67242135eb79-c000.snappy.parquet\n",
      "-rw-r--r--  1 sergey.tarabara  169928479    22M Feb 27 21:48 part-00001-9199d994-0b85-465b-94c3-67242135eb79-c000.snappy.parquet\n",
      "-rw-r--r--  1 sergey.tarabara  169928479    22M Feb 27 21:48 part-00002-9199d994-0b85-465b-94c3-67242135eb79-c000.snappy.parquet\n",
      "-rw-r--r--  1 sergey.tarabara  169928479    22M Feb 27 21:48 part-00003-9199d994-0b85-465b-94c3-67242135eb79-c000.snappy.parquet\n"
     ]
    }
   ],
   "source": [
    "!ls -lh yellow/24/10/"
   ]
  },
  {
   "cell_type": "code",
   "execution_count": null,
   "id": "31ba69c3-d66d-4fea-8f36-b40a9218b102",
   "metadata": {},
   "outputs": [],
   "source": [
    "#3"
   ]
  },
  {
   "cell_type": "code",
   "execution_count": 50,
   "id": "8ae0b970-e86f-4ebb-ab98-1b57acc955ee",
   "metadata": {},
   "outputs": [
    {
     "name": "stdout",
     "output_type": "stream",
     "text": [
      "02_hw_pyspark.ipynb             \u001b[1m\u001b[36myellow\u001b[m\u001b[m\n",
      "taxi_zone_lookup.csv            yellow_tripdata_2024-10.parquet\n"
     ]
    }
   ],
   "source": [
    "!ls "
   ]
  },
  {
   "cell_type": "code",
   "execution_count": 93,
   "id": "a0620821-9c0e-43f4-bd64-980142642d7b",
   "metadata": {},
   "outputs": [],
   "source": [
    "df = spark.read \\\n",
    "    .parquet(\"yellow_tripdata_2024-10.parquet\") \\\n",
    ".select(\"tpep_pickup_datetime\", \"tpep_dropoff_datetime\", \"trip_distance\",\"PULocationID\")"
   ]
  },
  {
   "cell_type": "code",
   "execution_count": 94,
   "id": "4dabf1be-4c35-4c80-9f11-37638fc762b5",
   "metadata": {},
   "outputs": [
    {
     "name": "stdout",
     "output_type": "stream",
     "text": [
      "+--------------------+---------------------+-------------+------------+\n",
      "|tpep_pickup_datetime|tpep_dropoff_datetime|trip_distance|PULocationID|\n",
      "+--------------------+---------------------+-------------+------------+\n",
      "| 2024-10-01 00:30:44|  2024-10-01 00:48:26|          3.0|         162|\n",
      "| 2024-10-01 00:12:20|  2024-10-01 00:25:25|          2.2|          48|\n",
      "| 2024-10-01 00:04:46|  2024-10-01 00:13:52|          2.7|         142|\n",
      "| 2024-10-01 00:12:10|  2024-10-01 00:23:01|          3.1|         233|\n",
      "| 2024-10-01 00:30:22|  2024-10-01 00:30:39|          0.0|         262|\n",
      "+--------------------+---------------------+-------------+------------+\n",
      "only showing top 5 rows\n",
      "\n"
     ]
    }
   ],
   "source": [
    "df.show(5)"
   ]
  },
  {
   "cell_type": "code",
   "execution_count": 95,
   "id": "9641f2c4-8093-4446-b251-752593b1b924",
   "metadata": {},
   "outputs": [],
   "source": [
    "%config Completer.use_jedi = False\n",
    "%load_ext autoreload\n",
    "%autoreload 2"
   ]
  },
  {
   "cell_type": "code",
   "execution_count": 96,
   "id": "7bf2a1a1-ce0a-4465-aef0-30b1cf4b0968",
   "metadata": {},
   "outputs": [
    {
     "data": {
      "text/plain": [
       "StructType([StructField('tpep_pickup_datetime', TimestampNTZType(), True), StructField('tpep_dropoff_datetime', TimestampNTZType(), True), StructField('trip_distance', DoubleType(), True), StructField('PULocationID', IntegerType(), True)])"
      ]
     },
     "execution_count": 96,
     "metadata": {},
     "output_type": "execute_result"
    }
   ],
   "source": [
    "df.schema"
   ]
  },
  {
   "cell_type": "code",
   "execution_count": 97,
   "id": "13b25cee-c04e-472c-b954-fc1197b679a7",
   "metadata": {},
   "outputs": [],
   "source": [
    "from pyspark.sql.functions import col, to_date"
   ]
  },
  {
   "cell_type": "code",
   "execution_count": 75,
   "id": "ad0b7246-b297-476e-9211-9e63e5a0202c",
   "metadata": {},
   "outputs": [
    {
     "data": {
      "text/plain": [
       "128893"
      ]
     },
     "execution_count": 75,
     "metadata": {},
     "output_type": "execute_result"
    }
   ],
   "source": [
    "df.filter(to_date(df.tpep_pickup_datetime) == \"2024-10-15\").count()"
   ]
  },
  {
   "cell_type": "code",
   "execution_count": 13,
   "id": "509f217f-6ba4-4919-b0c8-667cd451d0a3",
   "metadata": {},
   "outputs": [],
   "source": [
    "# df_filtered = df.filter((col(\"tpep_pickup_datetime\") >= \"2024-10-15\") \\\n",
    "#                         & (col(\"tpep_pickup_datetime\") < \"2024-10-16\")).count()\n",
    "df_filtered = df.filter(to_date(col(\"tpep_pickup_datetime\")) == \"2024-10-15\").count()"
   ]
  },
  {
   "cell_type": "code",
   "execution_count": 14,
   "id": "3867287d-1a21-4179-abbc-2d9b1323bdf4",
   "metadata": {
    "scrolled": true
   },
   "outputs": [
    {
     "data": {
      "text/plain": [
       "128893"
      ]
     },
     "execution_count": 14,
     "metadata": {},
     "output_type": "execute_result"
    }
   ],
   "source": [
    "df_filtered"
   ]
  },
  {
   "cell_type": "code",
   "execution_count": null,
   "id": "569912d8-3b2b-4cce-9ae6-0022ffb6d83d",
   "metadata": {},
   "outputs": [],
   "source": [
    "#4"
   ]
  },
  {
   "cell_type": "code",
   "execution_count": 98,
   "id": "9503756b-3baa-41ed-92c1-97cb7089e1ce",
   "metadata": {},
   "outputs": [],
   "source": [
    "from pyspark.sql.functions import max, unix_timestamp"
   ]
  },
  {
   "cell_type": "code",
   "execution_count": 99,
   "id": "6faccd07-2517-4f54-ab3d-a53021553743",
   "metadata": {},
   "outputs": [],
   "source": [
    "df_trip = df.createOrReplaceTempView('trip_data')"
   ]
  },
  {
   "cell_type": "code",
   "execution_count": 105,
   "id": "048429bc-714b-4b19-a489-4311bd66d0ce",
   "metadata": {},
   "outputs": [],
   "source": [
    "df_longest_trip = spark.sql(\"\"\"\n",
    "SELECT MAX(dur_c) as max_dur_c FROM (\n",
    "SELECT \n",
    "    unix_timestamp(tpep_dropoff_datetime) - unix_timestamp(tpep_pickup_datetime) as dur_c\n",
    "FROM\n",
    "    trips_data\n",
    ")\n",
    "\"\"\")"
   ]
  },
  {
   "cell_type": "code",
   "execution_count": 112,
   "id": "d9400bfb-0d7a-4f2e-9057-de68ce0f066c",
   "metadata": {},
   "outputs": [
    {
     "data": {
      "text/plain": [
       "162.6177777777778"
      ]
     },
     "execution_count": 112,
     "metadata": {},
     "output_type": "execute_result"
    }
   ],
   "source": [
    "df_longest_trip.head(1)[0][0]/60/60"
   ]
  },
  {
   "cell_type": "code",
   "execution_count": 123,
   "id": "9bf70281-13ec-489f-af5f-d5c7dee5a17e",
   "metadata": {},
   "outputs": [],
   "source": [
    "longest_trip = df \\\n",
    "    .withColumn(\"trip_duration\",unix_timestamp(col(\"tpep_dropoff_datetime\")) - unix_timestamp(col(\"tpep_pickup_datetime\"))) \\\n",
    "    .orderBy(\"trip_duration\", ascending= False) \\\n",
    "    .select(\"trip_duration\") \\\n",
    "    .head(1)"
   ]
  },
  {
   "cell_type": "code",
   "execution_count": 127,
   "id": "338d5fb1-bba9-4dc5-a28a-47fed3a04b04",
   "metadata": {},
   "outputs": [
    {
     "data": {
      "text/plain": [
       "162.6177777777778"
      ]
     },
     "execution_count": 127,
     "metadata": {},
     "output_type": "execute_result"
    }
   ],
   "source": [
    "longest_trip[0][0]/60/60"
   ]
  },
  {
   "cell_type": "code",
   "execution_count": 40,
   "id": "390fe517-acf2-4dad-8eb5-5cc05043d5ed",
   "metadata": {},
   "outputs": [],
   "source": [
    "#6"
   ]
  },
  {
   "cell_type": "code",
   "execution_count": 44,
   "id": "1df3b621-f751-445b-967a-07b332c8c9b7",
   "metadata": {},
   "outputs": [],
   "source": [
    "from pyspark.sql import types"
   ]
  },
  {
   "cell_type": "code",
   "execution_count": 41,
   "id": "dad65694-792c-450e-8339-dd5789723914",
   "metadata": {
    "scrolled": true
   },
   "outputs": [
    {
     "name": "stdout",
     "output_type": "stream",
     "text": [
      "--2025-03-02 19:16:09--  https://d37ci6vzurychx.cloudfront.net/misc/taxi_zone_lookup.csv\n",
      "Resolving d37ci6vzurychx.cloudfront.net (d37ci6vzurychx.cloudfront.net)... 65.9.23.184, 65.9.23.94, 65.9.23.7, ...\n",
      "connected. to d37ci6vzurychx.cloudfront.net (d37ci6vzurychx.cloudfront.net)|65.9.23.184|:443... \n",
      "HTTP request sent, awaiting response... 200 OK\n",
      "Length: 12331 (12K) [text/csv]\n",
      "Saving to: ‘taxi_zone_lookup.csv.1’\n",
      "\n",
      "taxi_zone_lookup.cs 100%[===================>]  12.04K  --.-KB/s    in 0s      \n",
      "\n",
      "2025-03-02 19:16:10 (1.44 GB/s) - ‘taxi_zone_lookup.csv.1’ saved [12331/12331]\n",
      "\n"
     ]
    }
   ],
   "source": [
    "!wget https://d37ci6vzurychx.cloudfront.net/misc/taxi_zone_lookup.csv"
   ]
  },
  {
   "cell_type": "code",
   "execution_count": 42,
   "id": "2c2166ac-e3de-4497-b26e-df06e367862b",
   "metadata": {},
   "outputs": [
    {
     "name": "stdout",
     "output_type": "stream",
     "text": [
      "\"LocationID\",\"Borough\",\"Zone\",\"service_zone\"\n",
      "1,\"EWR\",\"Newark Airport\",\"EWR\"\n",
      "2,\"Queens\",\"Jamaica Bay\",\"Boro Zone\"\n",
      "3,\"Bronx\",\"Allerton/Pelham Gardens\",\"Boro Zone\"\n",
      "4,\"Manhattan\",\"Alphabet City\",\"Yellow Zone\"\n",
      "5,\"Staten Island\",\"Arden Heights\",\"Boro Zone\"\n",
      "6,\"Staten Island\",\"Arrochar/Fort Wadsworth\",\"Boro Zone\"\n",
      "7,\"Queens\",\"Astoria\",\"Boro Zone\"\n",
      "8,\"Queens\",\"Astoria Park\",\"Boro Zone\"\n",
      "9,\"Queens\",\"Auburndale\",\"Boro Zone\"\n"
     ]
    }
   ],
   "source": [
    "!head taxi_zone_lookup.csv"
   ]
  },
  {
   "cell_type": "code",
   "execution_count": 45,
   "id": "7d9c6ccc-3a54-47cd-ad85-907c9ff4a0c5",
   "metadata": {},
   "outputs": [],
   "source": [
    "zone_schema = types.StructType([\n",
    "    types.StructField(\"LocationID\", types.IntegerType(), True),\n",
    "    types.StructField(\"Borough\", types.StringType(), True),\n",
    "    types.StructField(\"Zone\", types.StringType(), True),\n",
    "    types.StructField(\"service_zone\", types.StringType(), True)\n",
    "])"
   ]
  },
  {
   "cell_type": "code",
   "execution_count": 46,
   "id": "b7aadf7a-b9e2-4bda-972a-efd6cb80e439",
   "metadata": {},
   "outputs": [],
   "source": [
    "df_zone = spark.read \\\n",
    "    .option(\"header\", \"true\") \\\n",
    "    .schema(zone_schema) \\\n",
    "    .csv(\"taxi_zone_lookup.csv\")"
   ]
  },
  {
   "cell_type": "code",
   "execution_count": 47,
   "id": "f1c3a155-00da-4e66-9061-41f145f19811",
   "metadata": {},
   "outputs": [
    {
     "name": "stdout",
     "output_type": "stream",
     "text": [
      "+----------+-------------+--------------------+------------+\n",
      "|LocationID|      Borough|                Zone|service_zone|\n",
      "+----------+-------------+--------------------+------------+\n",
      "|         1|          EWR|      Newark Airport|         EWR|\n",
      "|         2|       Queens|         Jamaica Bay|   Boro Zone|\n",
      "|         3|        Bronx|Allerton/Pelham G...|   Boro Zone|\n",
      "|         4|    Manhattan|       Alphabet City| Yellow Zone|\n",
      "|         5|Staten Island|       Arden Heights|   Boro Zone|\n",
      "+----------+-------------+--------------------+------------+\n",
      "only showing top 5 rows\n",
      "\n"
     ]
    }
   ],
   "source": [
    "df_zone.show(5)"
   ]
  },
  {
   "cell_type": "code",
   "execution_count": null,
   "id": "bfa3b2ff-52b8-4907-a9e4-edf49dd5cd37",
   "metadata": {},
   "outputs": [],
   "source": []
  },
  {
   "cell_type": "code",
   "execution_count": 51,
   "id": "6c1b74cf-7444-4189-b212-c889e929ffdb",
   "metadata": {},
   "outputs": [],
   "source": [
    "df_result = df.join(df_zone, df.PULocationID == df_zone.LocationID)"
   ]
  },
  {
   "cell_type": "code",
   "execution_count": 52,
   "id": "dff92fd9-3267-4e2a-b8d3-1574a4df417b",
   "metadata": {},
   "outputs": [
    {
     "name": "stdout",
     "output_type": "stream",
     "text": [
      "+--------------------+---------------------+-------------+------------+----------+---------+-------------------+------------+\n",
      "|tpep_pickup_datetime|tpep_dropoff_datetime|trip_distance|PULocationID|LocationID|  Borough|               Zone|service_zone|\n",
      "+--------------------+---------------------+-------------+------------+----------+---------+-------------------+------------+\n",
      "| 2024-10-01 00:30:44|  2024-10-01 00:48:26|          3.0|         162|       162|Manhattan|       Midtown East| Yellow Zone|\n",
      "| 2024-10-01 00:12:20|  2024-10-01 00:25:25|          2.2|          48|        48|Manhattan|       Clinton East| Yellow Zone|\n",
      "| 2024-10-01 00:04:46|  2024-10-01 00:13:52|          2.7|         142|       142|Manhattan|Lincoln Square East| Yellow Zone|\n",
      "| 2024-10-01 00:12:10|  2024-10-01 00:23:01|          3.1|         233|       233|Manhattan|UN/Turtle Bay South| Yellow Zone|\n",
      "| 2024-10-01 00:30:22|  2024-10-01 00:30:39|          0.0|         262|       262|Manhattan|     Yorkville East| Yellow Zone|\n",
      "+--------------------+---------------------+-------------+------------+----------+---------+-------------------+------------+\n",
      "only showing top 5 rows\n",
      "\n"
     ]
    }
   ],
   "source": [
    "df_result.show(5)"
   ]
  },
  {
   "cell_type": "code",
   "execution_count": 55,
   "id": "f63261da-507d-4149-9b85-f0dc5756ceca",
   "metadata": {},
   "outputs": [],
   "source": [
    "df_result.createOrReplaceTempView('trips_data')"
   ]
  },
  {
   "cell_type": "code",
   "execution_count": 66,
   "id": "00240a3e-b454-4c1e-b9ca-1d846d873331",
   "metadata": {},
   "outputs": [],
   "source": [
    "df_least_pu = answer = spark.sql(\"\"\"\n",
    "SELECT\n",
    "    Zone,\n",
    "    count(1) as cnt\n",
    "FROM\n",
    "    trips_data\n",
    "GROUP BY \n",
    "    Zone\n",
    "ORDER BY cnt\n",
    "LIMIT 1\n",
    "\"\"\")"
   ]
  },
  {
   "cell_type": "code",
   "execution_count": 73,
   "id": "5bfbda36-b12e-4828-8ea4-e8556b9329aa",
   "metadata": {},
   "outputs": [
    {
     "name": "stdout",
     "output_type": "stream",
     "text": [
      "+--------------------+---+\n",
      "|                Zone|cnt|\n",
      "+--------------------+---+\n",
      "|Governor's Island...|  1|\n",
      "+--------------------+---+\n",
      "\n"
     ]
    }
   ],
   "source": [
    "df_least_pu.show()"
   ]
  },
  {
   "cell_type": "code",
   "execution_count": null,
   "id": "2fb8eb2b-c470-4954-88f5-dcb71771e0e8",
   "metadata": {},
   "outputs": [],
   "source": []
  }
 ],
 "metadata": {
  "kernelspec": {
   "display_name": "Python 3 (ipykernel)",
   "language": "python",
   "name": "python3"
  },
  "language_info": {
   "codemirror_mode": {
    "name": "ipython",
    "version": 3
   },
   "file_extension": ".py",
   "mimetype": "text/x-python",
   "name": "python",
   "nbconvert_exporter": "python",
   "pygments_lexer": "ipython3",
   "version": "3.12.4"
  }
 },
 "nbformat": 4,
 "nbformat_minor": 5
}
