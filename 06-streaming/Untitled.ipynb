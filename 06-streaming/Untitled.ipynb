{
 "cells": [
  {
   "cell_type": "code",
   "execution_count": 11,
   "id": "f1c0e177-2237-44c1-921d-b46f4e780360",
   "metadata": {},
   "outputs": [
    {
     "name": "stdout",
     "output_type": "stream",
     "text": [
      "\u001b[33mWARNING: Skipping kafka as it is not installed.\u001b[0m\u001b[33m\n",
      "Found existing installation: kafka-python 2.0.6\n",
      "Uninstalling kafka-python-2.0.6:\n",
      "  Successfully uninstalled kafka-python-2.0.6\n",
      "Collecting kafka-python\n",
      "  Using cached kafka_python-2.0.6-py2.py3-none-any.whl.metadata (9.0 kB)\n",
      "Using cached kafka_python-2.0.6-py2.py3-none-any.whl (252 kB)\n",
      "Installing collected packages: kafka-python\n",
      "Successfully installed kafka-python-2.0.6\n"
     ]
    }
   ],
   "source": [
    "!pip uninstall -y kafka\n",
    "!pip uninstall -y kafka-python\n",
    "!pip install kafka-python"
   ]
  },
  {
   "cell_type": "code",
   "execution_count": 19,
   "id": "236895dd-590f-49e1-9766-4f3b1921217c",
   "metadata": {},
   "outputs": [
    {
     "name": "stdout",
     "output_type": "stream",
     "text": [
      "/Users/sergey.tarabara/miniconda3/bin/python\n",
      "['/Users/sergey.tarabara/miniconda3/lib/python312.zip', '/Users/sergey.tarabara/miniconda3/lib/python3.12', '/Users/sergey.tarabara/miniconda3/lib/python3.12/lib-dynload', '', '/Users/sergey.tarabara/miniconda3/lib/python3.12/site-packages']\n"
     ]
    }
   ],
   "source": [
    "import sys\n",
    "print(sys.executable)  # Shows which Python interpreter is being used\n",
    "print(sys.path)  # Shows the module search path"
   ]
  },
  {
   "cell_type": "code",
   "execution_count": 21,
   "id": "b4ad2eec-729a-4687-b6d6-bda0ea5fe75b",
   "metadata": {},
   "outputs": [
    {
     "name": "stdout",
     "output_type": "stream",
     "text": [
      "Collecting kafka-python\n",
      "  Using cached kafka_python-2.0.6-py2.py3-none-any.whl.metadata (9.0 kB)\n",
      "Using cached kafka_python-2.0.6-py2.py3-none-any.whl (252 kB)\n",
      "Installing collected packages: kafka-python\n",
      "Successfully installed kafka-python-2.0.6\n",
      "\n",
      "\u001b[1m[\u001b[0m\u001b[34;49mnotice\u001b[0m\u001b[1;39;49m]\u001b[0m\u001b[39;49m A new release of pip is available: \u001b[0m\u001b[31;49m24.3.1\u001b[0m\u001b[39;49m -> \u001b[0m\u001b[32;49m25.0.1\u001b[0m\n",
      "\u001b[1m[\u001b[0m\u001b[34;49mnotice\u001b[0m\u001b[1;39;49m]\u001b[0m\u001b[39;49m To update, run: \u001b[0m\u001b[32;49mpip3.12 install --upgrade pip\u001b[0m\n"
     ]
    }
   ],
   "source": [
    "!/Users/sergey.tarabara/miniconda3/bin/python -m pip install kafka-python"
   ]
  },
  {
   "cell_type": "code",
   "execution_count": 22,
   "id": "378909d8-7cb1-4e93-8aff-675401af0046",
   "metadata": {},
   "outputs": [],
   "source": [
    "import json\n"
   ]
  },
  {
   "cell_type": "code",
   "execution_count": 23,
   "id": "32df3962-bf45-495e-8734-9d706e97f1aa",
   "metadata": {},
   "outputs": [],
   "source": [
    "from kafka import KafkaProducer"
   ]
  },
  {
   "cell_type": "code",
   "execution_count": 24,
   "id": "8a2ffb27-a1fd-4c73-a334-97a272d37509",
   "metadata": {},
   "outputs": [],
   "source": [
    "def json_serializer(data):\n",
    "    return json.dumps(data).encode('utf-8')"
   ]
  },
  {
   "cell_type": "code",
   "execution_count": 25,
   "id": "74a74b35-da50-4f40-aa67-3bab74f60982",
   "metadata": {},
   "outputs": [],
   "source": [
    "server = 'localhost:9092'\n",
    "\n",
    "producer = KafkaProducer(\n",
    "    bootstrap_servers=[server],\n",
    "    value_serializer=json_serializer\n",
    ")"
   ]
  },
  {
   "cell_type": "code",
   "execution_count": 26,
   "id": "d357d2f9-0060-417b-8bb5-dfa6dc67c823",
   "metadata": {},
   "outputs": [
    {
     "data": {
      "text/plain": [
       "True"
      ]
     },
     "execution_count": 26,
     "metadata": {},
     "output_type": "execute_result"
    }
   ],
   "source": [
    "producer.bootstrap_connected()"
   ]
  },
  {
   "cell_type": "code",
   "execution_count": null,
   "id": "ff187bd7-aa73-4b00-9498-6c104a9d76c7",
   "metadata": {},
   "outputs": [],
   "source": []
  }
 ],
 "metadata": {
  "kernelspec": {
   "display_name": "Python 3 (ipykernel)",
   "language": "python",
   "name": "python3"
  },
  "language_info": {
   "codemirror_mode": {
    "name": "ipython",
    "version": 3
   },
   "file_extension": ".py",
   "mimetype": "text/x-python",
   "name": "python",
   "nbconvert_exporter": "python",
   "pygments_lexer": "ipython3",
   "version": "3.12.4"
  }
 },
 "nbformat": 4,
 "nbformat_minor": 5
}
